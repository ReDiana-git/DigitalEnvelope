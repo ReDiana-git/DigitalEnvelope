{
 "cells": [
  {
   "cell_type": "code",
   "execution_count": 79,
   "metadata": {},
   "outputs": [],
   "source": [
    "import json\n",
    "import models\n",
    "from Crypto.Cipher import AES\n",
    "from base64 import b64encode\n",
    "from Crypto.Util.Padding import pad\n",
    "from Crypto.Random import get_random_bytes"
   ]
  },
  {
   "cell_type": "code",
   "execution_count": 80,
   "metadata": {},
   "outputs": [],
   "source": [
    "def encoder():\n",
    "    data = b\"The jab was the highly anticipated start of what public health experts hope is a nationwide wave of vaccinations that will signal the beginning of the end of the pandemic. The news coincided with a dark new milestone for the country \"\n",
    "    key = get_random_bytes(16)\n",
    "    cipher = AES.new(key,AES.MODE_CBC)\n",
    "    ct_bytes = cipher.encrypt(pad(data, AES.block_size))\n",
    "    key = b64encode(key).decode('utf-8')\n",
    "    iv = b64encode(cipher.iv).decode('utf-8')\n",
    "    ct = b64encode(ct_bytes).decode('utf-8')\n",
    "    result =json.dumps({'iv':iv, 'ciphertext':ct})\n",
    "    with open('Name.encrypt','w') as f:\n",
    "        f.write(result)\n",
    "    with open('Name.envelop','w') as f:\n",
    "        f.write(key)\n",
    "    print(key)"
   ]
  },
  {
   "cell_type": "code",
   "execution_count": 81,
   "metadata": {},
   "outputs": [
    {
     "name": "stdout",
     "output_type": "stream",
     "text": [
      "ngC7PqtMviY2gnbHTUbpcw==\n"
     ]
    }
   ],
   "source": [
    "encoder()"
   ]
  },
  {
   "cell_type": "code",
   "execution_count": null,
   "metadata": {},
   "outputs": [],
   "source": []
  },
  {
   "cell_type": "code",
   "execution_count": null,
   "metadata": {},
   "outputs": [],
   "source": []
  }
 ],
 "metadata": {
  "kernelspec": {
   "display_name": "Python 3",
   "language": "python",
   "name": "python3"
  },
  "language_info": {
   "codemirror_mode": {
    "name": "ipython",
    "version": 3
   },
   "file_extension": ".py",
   "mimetype": "text/x-python",
   "name": "python",
   "nbconvert_exporter": "python",
   "pygments_lexer": "ipython3",
   "version": "3.8.5"
  }
 },
 "nbformat": 4,
 "nbformat_minor": 4
}
