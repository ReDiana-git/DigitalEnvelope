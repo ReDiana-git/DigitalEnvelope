{
 "cells": [
  {
   "cell_type": "code",
   "execution_count": 1,
   "metadata": {},
   "outputs": [
    {
     "name": "stdout",
     "output_type": "stream",
     "text": [
      "請輸入你的名稱: harry\n"
     ]
    }
   ],
   "source": [
    "name = input('請輸入你的名稱: ')"
   ]
  },
  {
   "cell_type": "code",
   "execution_count": 3,
   "metadata": {},
   "outputs": [],
   "source": [
    "from cryptography.hazmat.primitives.asymmetric import rsa\n",
    "from cryptography.hazmat.primitives import serialization\n",
    "private_key = rsa.generate_private_key(\n",
    "    public_exponent=65537,\n",
    "    key_size=2048,\n",
    ")\n",
    "public_key = private_key.public_key()"
   ]
  },
  {
   "cell_type": "code",
   "execution_count": 4,
   "metadata": {},
   "outputs": [],
   "source": [
    "private_pem = private_key.private_bytes(\n",
    "    encoding = serialization.Encoding.PEM,\n",
    "    format = serialization.PrivateFormat.PKCS8,\n",
    "    encryption_algorithm = serialization.NoEncryption()\n",
    ")\n",
    "with open(name + '.key','wb') as f:\n",
    "    f.write(private_pem)"
   ]
  },
  {
   "cell_type": "code",
   "execution_count": 5,
   "metadata": {},
   "outputs": [],
   "source": [
    "public_pem = public_key.public_bytes(\n",
    "    encoding = serialization.Encoding.PEM,\n",
    "    format = serialization.PublicFormat.SubjectPublicKeyInfo\n",
    ")\n",
    "with open(name + '.pub','wb') as f:\n",
    "    f.write(public_pem)"
   ]
  },
  {
   "cell_type": "code",
   "execution_count": null,
   "metadata": {},
   "outputs": [],
   "source": []
  }
 ],
 "metadata": {
  "kernelspec": {
   "display_name": "Python 3",
   "language": "python",
   "name": "python3"
  },
  "language_info": {
   "codemirror_mode": {
    "name": "ipython",
    "version": 3
   },
   "file_extension": ".py",
   "mimetype": "text/x-python",
   "name": "python",
   "nbconvert_exporter": "python",
   "pygments_lexer": "ipython3",
   "version": "3.8.5"
  }
 },
 "nbformat": 4,
 "nbformat_minor": 4
}
