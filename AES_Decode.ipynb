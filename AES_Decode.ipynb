{
 "cells": [
  {
   "cell_type": "code",
   "execution_count": 75,
   "metadata": {},
   "outputs": [],
   "source": [
    "import json\n",
    "from Crypto.Cipher import AES\n",
    "from Crypto.Util.Padding import unpad\n",
    "from base64 import b64decode"
   ]
  },
  {
   "cell_type": "code",
   "execution_count": 76,
   "metadata": {},
   "outputs": [],
   "source": [
    "def decoder():\n",
    "    try:\n",
    "        with open('Name.encrypt','r') as f:\n",
    "            b64 = json.load(f)\n",
    "        with open('Name.envelop','rb',) as f:\n",
    "            key = b64decode(f.read())\n",
    "        iv = b64decode(b64['iv'])\n",
    "        ct = b64decode(b64['ciphertext'])\n",
    "        cipher = AES.new(key,AES.MODE_CBC,iv)\n",
    "        pt = unpad(cipher.decrypt(ct), AES.block_size)\n",
    "        print(\"The message was: \", pt)\n",
    "    except KeyError:\n",
    "        print(\"Incorrect decryption\")"
   ]
  },
  {
   "cell_type": "code",
   "execution_count": 77,
   "metadata": {},
   "outputs": [
    {
     "name": "stdout",
     "output_type": "stream",
     "text": [
      "The message was:  b'The jab was the highly anticipated start of what public health experts hope is a nationwide wave of vaccinations that will signal the beginning of the end of the pandemic. The news coincided with a dark new milestone for the country '\n"
     ]
    }
   ],
   "source": [
    "decoder()"
   ]
  },
  {
   "cell_type": "code",
   "execution_count": null,
   "metadata": {},
   "outputs": [],
   "source": []
  }
 ],
 "metadata": {
  "kernelspec": {
   "display_name": "Python 3",
   "language": "python",
   "name": "python3"
  },
  "language_info": {
   "codemirror_mode": {
    "name": "ipython",
    "version": 3
   },
   "file_extension": ".py",
   "mimetype": "text/x-python",
   "name": "python",
   "nbconvert_exporter": "python",
   "pygments_lexer": "ipython3",
   "version": "3.8.5"
  }
 },
 "nbformat": 4,
 "nbformat_minor": 4
}
